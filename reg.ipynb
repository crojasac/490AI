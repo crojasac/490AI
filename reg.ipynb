{
 "cells": [
  {
   "cell_type": "code",
   "execution_count": 3,
   "id": "89af6f7b",
   "metadata": {},
   "outputs": [
    {
     "name": "stdout",
     "output_type": "stream",
     "text": [
      "   Size Brand Category  Price\n",
      "0     8     A     Soda   1.49\n",
      "1    12     A     Soda   1.99\n",
      "2    16     A     Soda   2.49\n",
      "3    20     A     Soda   2.89\n",
      "4     8     B    Juice   1.79\n",
      "5    12     B    Juice   2.19\n",
      "6    16     B    Juice   2.59\n",
      "7    20     B    Juice   2.99\n"
     ]
    }
   ],
   "source": [
    "import pandas as pd\n",
    "\n",
    "# Create a small dataset\n",
    "data = {\n",
    "    \"Size\": [8, 12, 16, 20, 8, 12, 16, 20],\n",
    "    \"Brand\": [\"A\", \"A\", \"A\", \"A\", \"B\", \"B\", \"B\", \"B\"],\n",
    "    \"Category\": [\"Soda\", \"Soda\", \"Soda\", \"Soda\", \"Juice\", \"Juice\", \"Juice\", \"Juice\"],\n",
    "    \"Price\": [1.49, 1.99, 2.49, 2.89, 1.79, 2.19, 2.59, 2.99]\n",
    "}\n",
    "\n",
    "df = pd.DataFrame(data)\n",
    "print(df)"
   ]
  },
  {
   "cell_type": "code",
   "execution_count": 4,
   "id": "8e076ed5",
   "metadata": {},
   "outputs": [
    {
     "name": "stdout",
     "output_type": "stream",
     "text": [
      "   Size  Price  Brand_B  Category_Soda\n",
      "0     8   1.49    False           True\n",
      "1    12   1.99    False           True\n",
      "2    16   2.49    False           True\n",
      "3    20   2.89    False           True\n",
      "4     8   1.79     True          False\n",
      "5    12   2.19     True          False\n",
      "6    16   2.59     True          False\n",
      "7    20   2.99     True          False\n"
     ]
    }
   ],
   "source": [
    "\n",
    "df_encoded = pd.get_dummies(df, columns=[\"Brand\", \"Category\"], drop_first=True)\n",
    "print(df_encoded)"
   ]
  }
 ],
 "metadata": {
  "kernelspec": {
   "display_name": ".venv",
   "language": "python",
   "name": "python3"
  },
  "language_info": {
   "codemirror_mode": {
    "name": "ipython",
    "version": 3
   },
   "file_extension": ".py",
   "mimetype": "text/x-python",
   "name": "python",
   "nbconvert_exporter": "python",
   "pygments_lexer": "ipython3",
   "version": "3.12.8"
  }
 },
 "nbformat": 4,
 "nbformat_minor": 5
}
