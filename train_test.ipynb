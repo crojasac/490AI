{
  "nbformat": 4,
  "nbformat_minor": 0,
  "metadata": {
    "colab": {
      "provenance": [],
      "authorship_tag": "ABX9TyMUncLfLNTOgq7FyQ/gs6hy",
      "include_colab_link": true
    },
    "kernelspec": {
      "name": "python3",
      "display_name": "Python 3"
    },
    "language_info": {
      "name": "python"
    }
  },
  "cells": [
    {
      "cell_type": "markdown",
      "metadata": {
        "id": "view-in-github",
        "colab_type": "text"
      },
      "source": [
        "<a href=\"https://colab.research.google.com/github/crojasac/490AI/blob/main/train_test.ipynb\" target=\"_parent\"><img src=\"https://colab.research.google.com/assets/colab-badge.svg\" alt=\"Open In Colab\"/></a>"
      ]
    },
    {
      "cell_type": "code",
      "execution_count": 14,
      "metadata": {
        "id": "NmnhW-QSJv0N"
      },
      "outputs": [],
      "source": [
        "import numpy as np, pandas as pd\n",
        "import matplotlib.pyplot as plt\n",
        "from sklearn.linear_model import LinearRegression\n",
        "from sklearn.model_selection import train_test_split\n",
        "\n",
        "rng = np.random.default_rng(490)  # reproducible\n",
        "\n",
        "def rmse(y_true, y_pred):\n",
        "    y_true = np.asarray(y_true)\n",
        "    y_pred = np.asarray(y_pred)\n",
        "    return float(np.sqrt(np.mean((y_true - y_pred)**2)))\n",
        "\n",
        "def plot_scatter_with_line(df, xcol, ycol, model=None, title=\"\", color=\"C0\"):\n",
        "    xs = df[xcol].values\n",
        "    ys = df[ycol].values\n",
        "    plt.figure()\n",
        "    plt.scatter(xs, ys, alpha=0.7, label=\"Data\", color=color)\n",
        "    if model is not None:\n",
        "        a = float(model.intercept_)\n",
        "        b = float(model.coef_[0])\n",
        "        xgrid = np.linspace(xs.min(), xs.max(), 100)\n",
        "        yhat_line = a + b * xgrid\n",
        "        plt.plot(xgrid, yhat_line, linewidth=2, label=\"Fitted line\")\n",
        "    plt.xlabel(xcol); plt.ylabel(ycol)\n",
        "    plt.title(title); plt.grid(True, alpha=0.3); plt.legend(); plt.show()\n",
        "\n",
        "\n"
      ]
    },
    {
      "cell_type": "code",
      "source": [
        "# Create two seasons: 180 days winter, 180 days summer\n",
        "n_winter = 180\n",
        "n_summer = 180\n",
        "\n",
        "# Prices fluctuate similarly across seasons (exogenous here)\n",
        "price_winter = rng.normal(loc=10.0, scale=1.2, size=n_winter)\n",
        "price_summer = rng.normal(loc=10.1, scale=1.2, size=n_summer)\n",
        "\n",
        "# ... keep all your existing code above, then set a smaller sigma:\n",
        "beta = -0.8\n",
        "alpha_winter = 28.0\n",
        "alpha_summer = alpha_winter + 3\n",
        "\n",
        "sigma = 1.0   # << was 2.0; smaller noise -> clearer relationships, higher R^2\n",
        "\n",
        "q_winter = alpha_winter + beta * price_winter + rng.normal(0, sigma, n_winter)\n",
        "q_summer = alpha_summer + beta * price_summer + rng.normal(0, sigma, n_summer)\n",
        "\n",
        "winter_df = pd.DataFrame({\"Season\": \"Winter\", \"Price\": price_winter, \"Quantity\": q_winter})\n",
        "summer_df = pd.DataFrame({\"Season\": \"Summer\", \"Price\": price_summer, \"Quantity\": q_summer})\n",
        "df = pd.concat([winter_df, summer_df], ignore_index=True)\n",
        "\n",
        "df.head(), df[\"Season\"].value_counts()\n"
      ],
      "metadata": {
        "id": "_-9oStaVJ5lI"
      },
      "execution_count": null,
      "outputs": []
    },
    {
      "cell_type": "code",
      "source": [
        "plt.figure()\n",
        "for season, color in [(\"Winter\",\"C0\"), (\"Summer\",\"C1\")]:\n",
        "    sub = df[df[\"Season\"]==season]\n",
        "    plt.scatter(sub[\"Price\"], sub[\"Quantity\"], alpha=0.6, label=season, color=color)\n",
        "plt.xlabel(\"Price\"); plt.ylabel(\"Quantity\")\n",
        "plt.title(\"Beer demand with seasonal intercept shift\")\n",
        "plt.grid(True, alpha=0.3); plt.legend(); plt.show()\n",
        "\n"
      ],
      "metadata": {
        "id": "xoaGZkLbJ8bw"
      },
      "execution_count": null,
      "outputs": []
    },
    {
      "cell_type": "code",
      "source": [
        "train_w = df[df[\"Season\"]==\"Winter\"].copy()   # train\n",
        "test_s  = df[df[\"Season\"]==\"Summer\"].copy()   # test (OOD)\n",
        "\n",
        "Xw = train_w[[\"Price\"]].values\n",
        "yw = train_w[\"Quantity\"].values\n",
        "\n",
        "lin_w = LinearRegression().fit(Xw, yw)\n",
        "r2_train_w = lin_w.score(Xw, yw)\n",
        "print(\"Winter-only TRAIN R^2:\", round(r2_train_w, 3))\n",
        "\n",
        "plot_scatter_with_line(train_w, \"Price\", \"Quantity\", model=lin_w,\n",
        "                       title=\"Winter fit: looks great in-sample\", color=\"C0\")\n"
      ],
      "metadata": {
        "id": "BzOm08xaMDwn"
      },
      "execution_count": null,
      "outputs": []
    },
    {
      "cell_type": "code",
      "source": [
        "Xs = test_s[[\"Price\"]].values\n",
        "ys = test_s[\"Quantity\"].values\n",
        "\n",
        "r2_test_s = lin_w.score(Xs, ys)\n",
        "print(\"Apply winter model to SUMMER TEST R^2:\", round(r2_test_s, 3))\n",
        "\n",
        "# Visualize: summer scatter with the winter-fitted line overlaid\n",
        "plot_scatter_with_line(test_s, \"Price\", \"Quantity\", model=lin_w,\n",
        "                       title=\"Summer test: winter line underpredicts (domain shift)\", color=\"C1\")\n",
        "# Winter-only train metrics (already printed R^2 train)\n",
        "yhat_train_w = lin_w.predict(Xw)\n",
        "rmse_train_w = rmse(yw, yhat_train_w)\n",
        "print(\"Winter-only TRAIN RMSE:\", round(rmse_train_w, 3))\n",
        "\n",
        "# Summer test metrics with winter model\n",
        "yhat_s = lin_w.predict(Xs)\n",
        "r2_test_s = lin_w.score(Xs, ys)  # (already printed above, but keep for clarity)\n",
        "rmse_test_s = rmse(ys, yhat_s)\n",
        "print(\"Apply winter model to SUMMER TEST R^2:\", round(r2_test_s, 3))\n",
        "print(\"Apply winter model to SUMMER TEST RMSE:\", round(rmse_test_s, 3))\n"
      ],
      "metadata": {
        "id": "QROkJJwYMK9j"
      },
      "execution_count": null,
      "outputs": []
    },
    {
      "cell_type": "code",
      "source": [
        "X = df[[\"Price\"]].values\n",
        "y = df[\"Quantity\"].values\n",
        "season = df[\"Season\"].values  # for stratification\n",
        "\n",
        "X_train, X_test, y_train, y_test = train_test_split(\n",
        "    X, y, test_size=0.5, random_state=490, stratify=season\n",
        ")\n",
        "\n",
        "lin_mix = LinearRegression().fit(X_train, y_train)\n",
        "print(\"Mixed TRAIN R^2:\", round(lin_mix.score(X_train, y_train), 3))\n",
        "print(\"Mixed TEST  R^2:\", round(lin_mix.score(X_test,  y_test),  3))\n"
      ],
      "metadata": {
        "colab": {
          "base_uri": "https://localhost:8080/"
        },
        "id": "CWH5fFi3Mm0j",
        "outputId": "c9216621-5027-4780-f2ce-4cf3b684f09c"
      },
      "execution_count": 26,
      "outputs": [
        {
          "output_type": "stream",
          "name": "stdout",
          "text": [
            "Mixed TRAIN R^2: 0.188\n",
            "Mixed TEST  R^2: 0.149\n"
          ]
        }
      ]
    },
    {
      "cell_type": "code",
      "source": [
        "# Build a test DataFrame with season labels (for coloring) and compute metrics\n",
        "idx = np.arange(len(df))\n",
        "idx_train, idx_test = train_test_split(\n",
        "    idx, test_size=0.5, random_state=490, stratify=df[\"Season\"].values\n",
        ")\n",
        "\n",
        "test_mix = pd.DataFrame({\n",
        "    \"Price\": X_test.ravel(),\n",
        "    \"Quantity\": y_test,\n",
        "    \"Season\": df.loc[idx_test, \"Season\"].values\n",
        "})\n",
        "\n",
        "# Global test metrics\n",
        "yhat_mix_test = lin_mix.predict(X_test)\n",
        "r2_mix_test = lin_mix.score(X_test, y_test)\n",
        "rmse_mix_test = rmse(y_test, yhat_mix_test)\n",
        "print(\"Mixed TEST R^2 :\", round(r2_mix_test, 3))\n",
        "print(\"Mixed TEST RMSE:\", round(rmse_mix_test, 3))\n",
        "\n",
        "# Optional: per-season metrics on the mixed TEST set (nice for discussion)\n",
        "for season_name in [\"Winter\", \"Summer\"]:\n",
        "    mask = (test_mix[\"Season\"] == season_name).values\n",
        "    if mask.sum() > 1:\n",
        "        r2_season = lin_mix.score(X_test[mask], y_test[mask])\n",
        "        rmse_season = rmse(y_test[mask], yhat_mix_test[mask])\n",
        "        print(f\"  {season_name} TEST: R^2={r2_season:.3f} | RMSE={rmse_season:.3f}\")\n",
        "\n",
        "# Visualization: colored by season, with the fitted line from the mixed model\n",
        "plt.figure()\n",
        "for season_name, color in [(\"Winter\",\"C0\"), (\"Summer\",\"C1\")]:\n",
        "    sub = test_mix[test_mix[\"Season\"]==season_name]\n",
        "    plt.scatter(sub[\"Price\"], sub[\"Quantity\"], alpha=0.6,\n",
        "                label=f\"Test {season_name}\", color=color)\n",
        "\n",
        "a = float(lin_mix.intercept_); b = float(lin_mix.coef_[0])\n",
        "xgrid = np.linspace(test_mix[\"Price\"].min(), test_mix[\"Price\"].max(), 100)\n",
        "plt.plot(xgrid, a + b*xgrid, linewidth=2, label=\"Fitted line (mixed training)\")\n",
        "\n",
        "plt.xlabel(\"Price\"); plt.ylabel(\"Quantity\")\n",
        "plt.title(\"Mixed test split: fit is more honest and improves metrics\")\n",
        "plt.grid(True, alpha=0.3); plt.legend(); plt.show()\n"
      ],
      "metadata": {
        "id": "jp439zUpMrlT"
      },
      "execution_count": null,
      "outputs": []
    }
  ]
}